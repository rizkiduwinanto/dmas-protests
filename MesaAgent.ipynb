{
 "cells": [
  {
   "cell_type": "code",
   "execution_count": 13,
   "id": "73e83fe4-6cc2-4a72-a3bb-1bca991ec66e",
   "metadata": {},
   "outputs": [],
   "source": [
    "import mesa\n",
    "import seaborn as sns\n",
    "import numpy as np\n",
    "import pandas as pd\n",
    "import random as rnd"
   ]
  },
  {
   "cell_type": "code",
   "execution_count": 14,
   "id": "09938e14-2e86-47da-9801-f4cbefa257ac",
   "metadata": {},
   "outputs": [],
   "source": [
    "class Agent(mesa.Agent):\n",
    "    def __init__(self, id, model):\n",
    "        super().__init__(id, model)\n",
    "        self.base_dissatisfaction = 20\n",
    "        self.dissatisfaction = rnd.randint(0, self.base_dissatisfaction)\n",
    "        self.close_friends = np.array([])\n",
    "        self.friends = np.array([])\n",
    "        self.network = np.array([])\n",
    "        self.id = id\n",
    "        \n",
    "    def add_close_friend(self,close_friend):\n",
    "        self.close_friends = np.append(self.close_friends,close_friend)\n",
    "        \n",
    "    def add_friend(self,friend):\n",
    "        self.friends = np.append(self.friends,friend)\n",
    "        \n",
    "    def add_to_network(self,network_friend):\n",
    "        self.network = np.append(self.network,network_friend)\n",
    "\n",
    "    def step(self):\n",
    "        close_friendgroup = np.array([agents[0+i*4],agents[1+i*4],agents[2+i*4],agents[3+i*4]])\n",
    "        agents[(0+i*4)].add_close_friend(np.array([agents[1+i*4],agents[2+i*4],agents[3+i*4]]))\n",
    "        agents[(1+i*4)].add_close_friend(np.array([agents[0+i*4],agents[2+i*4],agents[3+i*4]]))\n",
    "        agents[(2+i*4)].add_close_friend(np.array([agents[0+i*4],agents[1+i*4],agents[3+i*4]]))\n",
    "        agents[(3+i*4)].add_close_friend(np.array([agents[0+i*4],agents[1+i*4],agents[2+i*4]]))\n",
    "        print(f\"Hi, I am an agent, you can call me {str(self.dissatisfaction)}.\")\n",
    "\n",
    "class Model(mesa.Model):\n",
    "    def __init__(self, N):\n",
    "        self.num_agents = N\n",
    "        self.schedule = mesa.time.RandomActivation(self)\n",
    "        for i in range(self.num_agents):\n",
    "            a = Agent(i, self)\n",
    "            self.schedule.add(a)\n",
    "\n",
    "    def step(self):\n",
    "        self.schedule.step()"
   ]
  },
  {
   "cell_type": "code",
   "execution_count": 15,
   "id": "660d679d-8d67-4091-902c-d94b628bddd4",
   "metadata": {},
   "outputs": [
    {
     "name": "stdout",
     "output_type": "stream",
     "text": [
      "Hi, I am an agent, you can call me 9.\n",
      "Hi, I am an agent, you can call me 5.\n",
      "Hi, I am an agent, you can call me 4.\n",
      "Hi, I am an agent, you can call me 11.\n",
      "Hi, I am an agent, you can call me 1.\n",
      "Hi, I am an agent, you can call me 10.\n",
      "Hi, I am an agent, you can call me 15.\n",
      "Hi, I am an agent, you can call me 13.\n",
      "Hi, I am an agent, you can call me 5.\n",
      "Hi, I am an agent, you can call me 7.\n"
     ]
    }
   ],
   "source": [
    "starter_model = Model(10)\n",
    "starter_model.step()"
   ]
  }
 ],
 "metadata": {
  "kernelspec": {
   "display_name": "Python 3 (ipykernel)",
   "language": "python",
   "name": "python3"
  },
  "language_info": {
   "codemirror_mode": {
    "name": "ipython",
    "version": 3
   },
   "file_extension": ".py",
   "mimetype": "text/x-python",
   "name": "python",
   "nbconvert_exporter": "python",
   "pygments_lexer": "ipython3",
   "version": "3.10.12"
  }
 },
 "nbformat": 4,
 "nbformat_minor": 5
}
